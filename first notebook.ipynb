{
    "cells": [
        {
            "cell_type": "code",
            "execution_count": 1,
            "metadata": {},
            "outputs": [
                {
                    "data": {
                        "text/html": "<div>\n<style scoped>\n    .dataframe tbody tr th:only-of-type {\n        vertical-align: middle;\n    }\n\n    .dataframe tbody tr th {\n        vertical-align: top;\n    }\n\n    .dataframe thead th {\n        text-align: right;\n    }\n</style>\n<table border=\"1\" class=\"dataframe\">\n  <thead>\n    <tr style=\"text-align: right;\">\n      <th></th>\n      <th>id</th>\n      <th>address</th>\n      <th>city</th>\n      <th>state</th>\n      <th>zipcode</th>\n      <th>latitude</th>\n      <th>longitude</th>\n      <th>bedrooms</th>\n      <th>bathrooms</th>\n      <th>rooms</th>\n      <th>squareFootage</th>\n      <th>lotSize</th>\n      <th>yearBuilt</th>\n      <th>lastSaleDate</th>\n      <th>lastSaleAmount</th>\n      <th>priorSaleDate</th>\n      <th>priorSaleAmount</th>\n      <th>estimated_value</th>\n    </tr>\n  </thead>\n  <tbody>\n    <tr>\n      <th>0</th>\n      <td>39525749</td>\n      <td>8171 E 84th Ave</td>\n      <td>Denver</td>\n      <td>CO</td>\n      <td>80022</td>\n      <td>39.849160</td>\n      <td>-104.893468</td>\n      <td>3</td>\n      <td>2.0</td>\n      <td>6</td>\n      <td>1378</td>\n      <td>9968</td>\n      <td>2003.0</td>\n      <td>2009-12-17</td>\n      <td>75000</td>\n      <td>2004-05-13</td>\n      <td>165700.0</td>\n      <td>239753</td>\n    </tr>\n    <tr>\n      <th>1</th>\n      <td>184578398</td>\n      <td>10556 Wheeling St</td>\n      <td>Denver</td>\n      <td>CO</td>\n      <td>80022</td>\n      <td>39.888020</td>\n      <td>-104.830930</td>\n      <td>2</td>\n      <td>2.0</td>\n      <td>6</td>\n      <td>1653</td>\n      <td>6970</td>\n      <td>2004.0</td>\n      <td>2004-09-23</td>\n      <td>216935</td>\n      <td>NaN</td>\n      <td>NaN</td>\n      <td>343963</td>\n    </tr>\n    <tr>\n      <th>2</th>\n      <td>184430015</td>\n      <td>3190 Wadsworth Blvd</td>\n      <td>Denver</td>\n      <td>CO</td>\n      <td>80033</td>\n      <td>39.761710</td>\n      <td>-105.081070</td>\n      <td>3</td>\n      <td>1.0</td>\n      <td>0</td>\n      <td>1882</td>\n      <td>23875</td>\n      <td>1917.0</td>\n      <td>2008-04-03</td>\n      <td>330000</td>\n      <td>NaN</td>\n      <td>NaN</td>\n      <td>488840</td>\n    </tr>\n    <tr>\n      <th>3</th>\n      <td>155129946</td>\n      <td>3040 Wadsworth Blvd</td>\n      <td>Denver</td>\n      <td>CO</td>\n      <td>80033</td>\n      <td>39.760780</td>\n      <td>-105.081060</td>\n      <td>4</td>\n      <td>3.0</td>\n      <td>0</td>\n      <td>2400</td>\n      <td>11500</td>\n      <td>1956.0</td>\n      <td>2008-12-02</td>\n      <td>185000</td>\n      <td>2008-06-27</td>\n      <td>0.0</td>\n      <td>494073</td>\n    </tr>\n    <tr>\n      <th>4</th>\n      <td>245107</td>\n      <td>5615 S Eaton St</td>\n      <td>Denver</td>\n      <td>CO</td>\n      <td>80123</td>\n      <td>39.616181</td>\n      <td>-105.058812</td>\n      <td>3</td>\n      <td>4.0</td>\n      <td>8</td>\n      <td>2305</td>\n      <td>5600</td>\n      <td>1998.0</td>\n      <td>2012-07-18</td>\n      <td>308000</td>\n      <td>2011-12-29</td>\n      <td>0.0</td>\n      <td>513676</td>\n    </tr>\n  </tbody>\n</table>\n</div>",
                        "text/plain": "          id              address    city state  zipcode   latitude  \\\n0   39525749      8171 E 84th Ave  Denver    CO    80022  39.849160   \n1  184578398    10556 Wheeling St  Denver    CO    80022  39.888020   \n2  184430015  3190 Wadsworth Blvd  Denver    CO    80033  39.761710   \n3  155129946  3040 Wadsworth Blvd  Denver    CO    80033  39.760780   \n4     245107      5615 S Eaton St  Denver    CO    80123  39.616181   \n\n    longitude  bedrooms  bathrooms  rooms  squareFootage  lotSize  yearBuilt  \\\n0 -104.893468         3        2.0      6           1378     9968     2003.0   \n1 -104.830930         2        2.0      6           1653     6970     2004.0   \n2 -105.081070         3        1.0      0           1882    23875     1917.0   \n3 -105.081060         4        3.0      0           2400    11500     1956.0   \n4 -105.058812         3        4.0      8           2305     5600     1998.0   \n\n  lastSaleDate  lastSaleAmount priorSaleDate  priorSaleAmount  estimated_value  \n0   2009-12-17           75000    2004-05-13         165700.0           239753  \n1   2004-09-23          216935           NaN              NaN           343963  \n2   2008-04-03          330000           NaN              NaN           488840  \n3   2008-12-02          185000    2008-06-27              0.0           494073  \n4   2012-07-18          308000    2011-12-29              0.0           513676  "
                    },
                    "execution_count": 1,
                    "metadata": {},
                    "output_type": "execute_result"
                }
            ],
            "source": "# The code was removed by Watson Studio for sharing."
        },
        {
            "cell_type": "code",
            "execution_count": null,
            "metadata": {},
            "outputs": [],
            "source": ""
        }
    ],
    "metadata": {
        "kernelspec": {
            "display_name": "Python 3.6",
            "language": "python",
            "name": "python3"
        },
        "language_info": {
            "codemirror_mode": {
                "name": "ipython",
                "version": 3
            },
            "file_extension": ".py",
            "mimetype": "text/x-python",
            "name": "python",
            "nbconvert_exporter": "python",
            "pygments_lexer": "ipython3",
            "version": "3.6.9"
        }
    },
    "nbformat": 4,
    "nbformat_minor": 1
}